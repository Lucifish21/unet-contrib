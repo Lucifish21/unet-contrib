{
 "cells": [
  {
   "cell_type": "markdown",
   "metadata": {},
   "source": [
    "### Import modules from fjagepy and unetpy "
   ]
  },
  {
   "cell_type": "code",
   "execution_count": null,
   "metadata": {},
   "outputs": [],
   "source": [
    "from fjagepy import *\n",
    "from unetpy import *"
   ]
  },
  {
   "cell_type": "markdown",
   "metadata": {},
   "source": [
    "### Some useful functions for modem operations "
   ]
  },
  {
   "cell_type": "code",
   "execution_count": null,
   "metadata": {},
   "outputs": [],
   "source": [
    "# Open a connection to modem\n",
    "\n",
    "def modemOpen(ip, port):\n",
    "    try:\n",
    "        modem = org_arl_fjage_remote.Gateway(ip, port)\n",
    "        print(\"Connected!\")\n",
    "        return modem\n",
    "    except Exception as e:\n",
    "        print(\"Exception:\" + str(e))\n",
    "        sys.exit(0)\n",
    "\n",
    "# Close the connection to modem        \n",
    "def modemClose(modem):\n",
    "    modem.shutdown()\n",
    "\n",
    "# Get the range to the modem with specified address\n",
    "def modemgetRange(modem, address):\n",
    "    rangeReq = org_arl_unet_phy.RangeReq()\n",
    "    rangeReq.to = address\n",
    "    rangeReq.recipient = 'ranging'\n",
    "    rsp = modem.request(rangeReq, 10000)\n",
    "    if rsp and rsp.perf == org_arl_fjage.Performative.AGREE:\n",
    "        rangeRec = modem.receive(org_arl_unet_phy.RangeNtf, 10000)\n",
    "        if rangeRec == None:\n",
    "            print(\"Error getting range!\")\n",
    "        else:\n",
    "            return rangeRec.range\n",
    "\n",
    "# Record a signal        \n",
    "def modemRecord(modem, recLen):\n",
    "    recReq = org_arl_unet_bb.RecordBasebandSignalReq()\n",
    "    recReq.recLen = recLen\n",
    "    recReq.recipient = 'phy'\n",
    "    rsp = modem.request(recReq, 1000)\n",
    "    if rsp and rsp.perf == org_arl_fjage.Performative.AGREE:\n",
    "        print(\"DEBUG\")\n",
    "        rec = modem.receive(org_arl_unet_bb.RxBasebandSignalNtf, 10000)\n",
    "        return rec.signal\n",
    "\n",
    "# Transmit a frame    \n",
    "def modemFrameTx(modem, data):\n",
    "    txReq = org_arl_unet_phy.TxFrameReq()\n",
    "    txReq.recipient = 'phy'\n",
    "    txReq.data = data\n",
    "    rsp = modem.request(txReq, 5000)\n",
    "\n",
    "# Transmit a signal    \n",
    "def modemSignalTx(modem, data):\n",
    "    txSignal = org_arl_unet_bb.TxBasebandSignalReq()\n",
    "    txSignal.recipient = 'phy'\n",
    "    txSignal.preamble = 3\n",
    "    txSignal.dac = 0\n",
    "    txSignal.channels = 1\n",
    "    txSignal.fc = -1\n",
    "    txSignal.fs = -1\n",
    "    txSignal.signal = data\n",
    "    rsp = modem.request(txSignal, 5000)"
   ]
  },
  {
   "cell_type": "markdown",
   "metadata": {},
   "source": [
    "###  Example python scripts using the above functions "
   ]
  },
  {
   "cell_type": "markdown",
   "metadata": {},
   "source": [
    "###### <span style=\"color:red\"> Transmit a frame using TxFrameReq </span> "
   ]
  },
  {
   "cell_type": "code",
   "execution_count": null,
   "metadata": {},
   "outputs": [],
   "source": [
    "# modem = modemOpen('192.168.1.179', 1100)\n",
    "modem = modemOpen('localhost', 1100)\n",
    "modemFrameTx(modem, [1,1])"
   ]
  },
  {
   "cell_type": "markdown",
   "metadata": {},
   "source": [
    "###### <span style=\"color:red\"> Transmit a signal </span> "
   ]
  },
  {
   "cell_type": "code",
   "execution_count": null,
   "metadata": {},
   "outputs": [],
   "source": [
    "# modem = modemOpen('192.168.1.109', 1100)\n",
    "modemSignalTx(modem, [1,1,1,1,1,1])"
   ]
  },
  {
   "cell_type": "markdown",
   "metadata": {},
   "source": [
    "###### <span style=\"color:red\"> Ranging </span> "
   ]
  },
  {
   "cell_type": "code",
   "execution_count": null,
   "metadata": {},
   "outputs": [],
   "source": [
    "# modem = modemOpen('192.168.1.175', 1100)\n",
    "modem.subscribe(modem.topic(\"ranging__ntf\"))\n",
    "modemgetRange(modem, 9)"
   ]
  },
  {
   "cell_type": "markdown",
   "metadata": {},
   "source": [
    "###### <span style=\"color:red\"> Record the signal and plot </span> "
   ]
  },
  {
   "cell_type": "code",
   "execution_count": null,
   "metadata": {},
   "outputs": [],
   "source": [
    "import matplotlib.pyplot as plt\n",
    "\n",
    "# modem = modemOpen('192.168.1.175', 1100)\n",
    "modem.subscribe(modem.topic(\"phy__ntf\"))\n",
    "signal = modemRecord(modem, 8190)\n",
    "plt.plot(signal)\n",
    "plt.show()"
   ]
  },
  {
   "cell_type": "markdown",
   "metadata": {},
   "source": [
    "###### <span style=\"color:red\"> Close the connection to modem </span> "
   ]
  },
  {
   "cell_type": "code",
   "execution_count": null,
   "metadata": {},
   "outputs": [],
   "source": [
    "modemClose(modem)"
   ]
  }
 ],
 "metadata": {
  "kernelspec": {
   "display_name": "Python 3",
   "language": "python",
   "name": "python3"
  },
  "language_info": {
   "codemirror_mode": {
    "name": "ipython",
    "version": 3
   },
   "file_extension": ".py",
   "mimetype": "text/x-python",
   "name": "python",
   "nbconvert_exporter": "python",
   "pygments_lexer": "ipython3",
   "version": "3.5.4"
  }
 },
 "nbformat": 4,
 "nbformat_minor": 2
}
